{
 "cells": [
  {
   "cell_type": "code",
   "execution_count": 3,
   "id": "936cc5fa-3d40-4b87-84ec-f9435956ddd2",
   "metadata": {
    "tags": []
   },
   "outputs": [
    {
     "name": "stdout",
     "output_type": "stream",
     "text": [
      "Financial Analysis\n",
      "-----------------\n",
      "Total Months: 86\n",
      "Total: $22,564,198\n",
      "-----------------\n",
      "Average Change:$-8,311.11\n",
      "Greates increase in profits: Aug-16     $1,862,002\n",
      "Greates decrease in profits: Feb-14     $-1,825,558\n"
     ]
    }
   ],
   "source": [
    "#import modules\n",
    "\n",
    "import os\n",
    "import csv\n",
    "\n",
    "\n",
    "#set file path \n",
    "\n",
    "csv_path =os.path.join(\"RESOURCES\",\"budget_data.csv\")\n",
    "\n",
    "#variables \n",
    "Date=[]\n",
    "Profit_Losses=[]\n",
    "Monthly_changes=[]\n",
    "Prev_profit=0    \n",
    "\n",
    "#open file\n",
    "with open(csv_path,'r') as csvdata:\n",
    "\n",
    "    reader = csv.reader(csvdata)\n",
    "    header = next(reader)\n",
    "    \n",
    " #create loop for data     \n",
    "    for row in reader:\n",
    "        Date.append(row[0])\n",
    "        Profit_Losses.append(int(row[1]))\n",
    "        if len(Date) == 1:\n",
    "            Monthly_changes.append(0)\n",
    "        else:\n",
    "            current_change = int(row[1])-Prev_profit\n",
    "            Monthly_changes.append(current_change)\n",
    "        Prev_profit = int(row[1])\n",
    "\n",
    "        \n",
    "#caculations   \n",
    "#len will count\n",
    "total_months =len(Date)\n",
    "\n",
    "Average =sum(Monthly_changes)/(total_months-1)\n",
    "\n",
    "Total_profit =sum(Profit_Losses)\n",
    "\n",
    "increase = max(Monthly_changes)\n",
    "\n",
    "decrease = min(Monthly_changes)\n",
    "\n",
    "date_increase = Date[Monthly_changes.index(increase)]\n",
    "date_decrease = Date[Monthly_changes.index(decrease)]\n",
    "\n",
    "#print to terminal  \n",
    "#need to make values into string to show\n",
    "\n",
    "print(\"Financial Analysis\")\n",
    "print(\"-----------------\")\n",
    "print(\"Total Months: \" + str(total_months))\n",
    "print(\"Total: \" + str('${:,.0f}'.format(Total_profit)))\n",
    "print(\"-----------------\")\n",
    "print(\"Average Change:\" + str('${:,.2f}'.format(Average)))\n",
    "print(\"Greates increase in profits: \" + str(date_increase)+\"     \" + str('${:,.0f}'.format(increase)))\n",
    "print(\"Greates decrease in profits: \" + str(date_decrease)+\"     \" + str('${:,.0f}'.format(decrease)))       \n",
    "\n",
    "#export text file \n",
    "with open('ANALYSIS/Financial.txt','w') as text:\n",
    "    text.write(\"Financial Analysis\\n\")\n",
    "    text.write(\"-------------------------\\n\")\n",
    "    text.write(f\"Total Months: {total_months}\\n\")\n",
    "    text.write(f\"Total: ${Total_profit:,.0f}\\n\")\n",
    "    text.write(\"-------------------------\\n\")\n",
    "    text.write(f\"Average Change: {Average:,.2f}\\n\")\n",
    "    text.write(f\"Greates increase in profits: {date_increase} (${increase:,.0f})\\n\")\n",
    "    text.write(f\"Greates decrease in profits: {date_decrease} (${decrease:,.0f})\\n\")"
   ]
  },
  {
   "cell_type": "code",
   "execution_count": null,
   "id": "a5072112-3b23-4c1c-b202-74ec39b4dea7",
   "metadata": {},
   "outputs": [],
   "source": []
  }
 ],
 "metadata": {
  "kernelspec": {
   "display_name": "Python 3 (ipykernel)",
   "language": "python",
   "name": "python3"
  },
  "language_info": {
   "codemirror_mode": {
    "name": "ipython",
    "version": 3
   },
   "file_extension": ".py",
   "mimetype": "text/x-python",
   "name": "python",
   "nbconvert_exporter": "python",
   "pygments_lexer": "ipython3",
   "version": "3.11.5"
  }
 },
 "nbformat": 4,
 "nbformat_minor": 5
}
